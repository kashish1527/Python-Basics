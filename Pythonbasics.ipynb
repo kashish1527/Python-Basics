{
 "cells": [
  {
   "cell_type": "markdown",
   "metadata": {},
   "source": [
    "PYTHON BASICS QUESTIONS ANS ANSWERS :-"
   ]
  },
  {
   "cell_type": "markdown",
   "metadata": {},
   "source": [
    " 1.What is Python, and why is it popular?\n",
    " \n",
    " ->Python is a popular programming language known for its simplicity, versatility, and readability.It is created by Guido van Rossum and first released in 1991 .It is widely used in web development, data science, AI, automation, and more. Its popularity comes from its easy syntax, large community support, rich libraries, and cross-platform compatibility."
   ]
  },
  {
   "cell_type": "markdown",
   "metadata": {},
   "source": [
    "2.What is an interpreter in Python?\n",
    "\n",
    "->A Python interpreter is a program that executes Python code line by line, converting it into machine-readable instructions. This allows for faster debugging and interactive execution."
   ]
  },
  {
   "cell_type": "markdown",
   "metadata": {},
   "source": [
    "3.What are pre-defined keywords in Python?\n",
    "\n",
    "->Pre-defined keywords in Python are reserved words with special meanings that cannot be used as variable names. Examples include if, else, while, for, def, return, import, and True."
   ]
  },
  {
   "cell_type": "markdown",
   "metadata": {},
   "source": [
    "4.Can keywords be used as variable names?\n",
    "\n",
    "->No, keywords cannot be used as variable names because they have special meanings in Python. "
   ]
  },
  {
   "cell_type": "markdown",
   "metadata": {},
   "source": [
    "5.What is mutability in Python?\n",
    "\n",
    "->Mutability in Python refers to whether an object's value can be changed after creation.\n",
    "Mutable (can change): list, dict, set"
   ]
  },
  {
   "cell_type": "markdown",
   "metadata": {},
   "source": [
    "6.Why are lists mutable, but tuples are immutable?\n",
    "\n",
    "->Lists are mutable because they allow modifications like adding, removing, or changing elements whereas Tuples are immutable to ensure data integrity and improve performance by preventing changes after creation."
   ]
  },
  {
   "cell_type": "markdown",
   "metadata": {},
   "source": [
    "7.What is the difference between “==” and “is” operators in Python?\n",
    "\n",
    "-> == checks values, while is checks memory location (object identity)."
   ]
  },
  {
   "cell_type": "markdown",
   "metadata": {},
   "source": [
    "8.What are logical operators in Python?\n",
    "\n",
    "->Logical operators are used to combine conditional statements.\n",
    "\n",
    "and → True if both conditions are True\n",
    "\n",
    "or → True if at least one condition is True\n",
    "\n",
    "not → Reverses the condition"
   ]
  },
  {
   "cell_type": "markdown",
   "metadata": {},
   "source": [
    "9.What is type casting in Python?\n",
    "\n",
    "->Type casting in Python means converting one data type into another.\n",
    "\n",
    "Implicit casting: Python converts types automatically.\n",
    "\n",
    "Explicit casting: Manual conversion using int(), float(), str(), etc.\n",
    "\n"
   ]
  },
  {
   "cell_type": "markdown",
   "metadata": {},
   "source": [
    "10.What is the difference between implicit and explicit type casting?\n",
    "\n",
    "->Implicit: Python automatically converts one data to another.\t\n",
    " Example: x = 5 + 2.5 # Result: 7.5 (int → float)\n",
    "\n",
    "Explicit: Where user converts one data to another like int(), float(), str().\t\n",
    "Example: y = int(\"10\") # Converts string to int\n",
    "\n"
   ]
  },
  {
   "cell_type": "markdown",
   "metadata": {},
   "source": [
    "11.What is the purpose of conditional statements in Python?\n",
    "\n",
    "->Conditional statements are used to make decisions in a program by executing different code blocks based on conditions.\n",
    "\n",
    "Key Conditional Statements:\n",
    "if → Executes code if the condition is True\n",
    "\n",
    "elif → Checks multiple conditions\n",
    "\n",
    "else → Runs when all conditions are False\n",
    "\n",
    "Example:\n",
    "age = 18\n",
    "\n",
    "if age > 18:\n",
    "    print(\"You can vote.\")\n",
    "elif age == 18:\n",
    "    print(\"You just became eligible to vote!\")\n",
    "else:\n",
    "    print(\"You cannot vote.\")\n"
   ]
  },
  {
   "cell_type": "markdown",
   "metadata": {},
   "source": [
    "12.How does the elif statement work?\n",
    "\n",
    "->The elif statement is used after if and before else to check multiple conditions. It runs only if the if condition is False."
   ]
  },
  {
   "cell_type": "markdown",
   "metadata": {},
   "source": [
    "13.What is the difference between for and while loops?\n",
    "\n",
    "->for loop\tIterates over a sequence (fixed iterations)\tfor i in range(5): print(i) whereas\n",
    "while loop\tRepeats while a condition is True (unknown iterations)\twhile x < 5: x += 1"
   ]
  },
  {
   "cell_type": "markdown",
   "metadata": {},
   "source": [
    "14.Describe a scenario where a while loop is more suitable than a for loop?\n",
    "\n",
    "->A While Loop is more appropriate when you need to iterate until a condition is met without knowing the number of iterations in advance. This makes it suitable for situations like processing user guesses for a secret number."
   ]
  },
  {
   "cell_type": "markdown",
   "metadata": {},
   "source": [
    "PRACTICAL QUESTIONS :-"
   ]
  },
  {
   "cell_type": "code",
   "execution_count": 18,
   "metadata": {},
   "outputs": [
    {
     "name": "stdout",
     "output_type": "stream",
     "text": [
      "Hello, World!\n"
     ]
    }
   ],
   "source": [
    "#1 Write a Python program to print \"Hello, World!\n",
    "\n",
    "print(\"Hello, World!\")\n",
    "\n"
   ]
  },
  {
   "cell_type": "code",
   "execution_count": 19,
   "metadata": {},
   "outputs": [
    {
     "name": "stdout",
     "output_type": "stream",
     "text": [
      "My name is Kashish\n",
      "I am 24 years old\n"
     ]
    }
   ],
   "source": [
    "#2 Write a Python program that displays your name and age.\n",
    "\n",
    "name = \"Kashish\" \n",
    "age = 24       \n",
    "\n",
    "print(\"My name is\", name)\n",
    "print(\"I am\", age, \"years old\")\n"
   ]
  },
  {
   "cell_type": "code",
   "execution_count": 20,
   "metadata": {},
   "outputs": [
    {
     "name": "stdout",
     "output_type": "stream",
     "text": [
      "['False', 'None', 'True', 'and', 'as', 'assert', 'async', 'await', 'break', 'class', 'continue', 'def', 'del', 'elif', 'else', 'except', 'finally', 'for', 'from', 'global', 'if', 'import', 'in', 'is', 'lambda', 'nonlocal', 'not', 'or', 'pass', 'raise', 'return', 'try', 'while', 'with', 'yield']\n"
     ]
    }
   ],
   "source": [
    "#3 Write code to print all the pre-defined keywords in Python using the keyword library.\n",
    "\n",
    "import keyword\n",
    "\n",
    "print(keyword.kwlist)\n"
   ]
  },
  {
   "cell_type": "code",
   "execution_count": 21,
   "metadata": {},
   "outputs": [
    {
     "data": {
      "text/plain": [
       "True"
      ]
     },
     "execution_count": 21,
     "metadata": {},
     "output_type": "execute_result"
    }
   ],
   "source": [
    "#4 Write a program that checks if a given word is a Python keyword.\n",
    "\n",
    "keyword = \"is\"\n",
    "\n",
    "keyword is keyword"
   ]
  },
  {
   "cell_type": "code",
   "execution_count": 22,
   "metadata": {},
   "outputs": [],
   "source": [
    "#5 Create a list and tuple in Python, and demonstrate how attempting to change an element works differently for each.\n",
    "\n",
    "\n"
   ]
  },
  {
   "cell_type": "code",
   "execution_count": 23,
   "metadata": {},
   "outputs": [],
   "source": [
    "#6 Write a function to demonstrate the behavior of mutable and immutable arguments."
   ]
  },
  {
   "cell_type": "code",
   "execution_count": 24,
   "metadata": {},
   "outputs": [],
   "source": [
    "#7 Write a program to demonstrate the use of logical operators.\n",
    "\n"
   ]
  },
  {
   "cell_type": "code",
   "execution_count": 25,
   "metadata": {},
   "outputs": [],
   "source": [
    "#8 Write a Python program to convert user input from string to integer, float, and boolean types."
   ]
  },
  {
   "cell_type": "code",
   "execution_count": 26,
   "metadata": {},
   "outputs": [
    {
     "name": "stdout",
     "output_type": "stream",
     "text": [
      "Integer List: [10, 20, 30, 40, 50]\n",
      "String List: ['10', '20', '30', '40', '50']\n",
      "Float List: [10.0, 20.0, 30.0, 40.0, 50.0]\n",
      "Boolean List: [True, True, True, True, True]\n"
     ]
    }
   ],
   "source": [
    "#9 Write code to demonstrate type casting with list elements.\n",
    "\n",
    "# Sample list with mixed data types\n",
    "mixed_list = [\"10\", \"20\", \"30\", \"40\", \"50\"]  # All elements are strings\n",
    "\n",
    "# Convert all elements to integers using list comprehension\n",
    "int_list = [int(i) for i in mixed_list]\n",
    "print(\"Integer List:\", int_list)\n",
    "\n",
    "# Convert integers back to strings\n",
    "str_list = [str(i) for i in int_list]\n",
    "print(\"String List:\", str_list)\n",
    "\n",
    "# Convert integers to floats\n",
    "float_list = [float(i) for i in int_list]\n",
    "print(\"Float List:\", float_list)\n",
    "\n",
    "# Convert integers to booleans (0 -> False, others -> True)\n",
    "bool_list = [bool(i) for i in int_list]\n",
    "print(\"Boolean List:\", bool_list)"
   ]
  },
  {
   "cell_type": "code",
   "execution_count": 27,
   "metadata": {},
   "outputs": [],
   "source": [
    "#10  Write a program that checks if a number is positive, negative, or zero.\n",
    "\n",
    "def check_number (num):\n",
    "    if num > 0:\n",
    "        print(\"The number is positive\")\n",
    "    elif num < 0:\n",
    "        print(\"The number is negative\")\n",
    "    else:\n",
    "        print(\"The number is zero\")\n",
    "\n",
    "        num = float(input(\"enter a number\"))\n",
    "        check_number (num)"
   ]
  },
  {
   "cell_type": "code",
   "execution_count": 28,
   "metadata": {},
   "outputs": [
    {
     "name": "stdout",
     "output_type": "stream",
     "text": [
      "1\n",
      "2\n",
      "3\n",
      "4\n",
      "5\n",
      "6\n",
      "7\n",
      "8\n",
      "9\n",
      "10\n",
      "11\n",
      "12\n",
      "13\n",
      "14\n",
      "15\n",
      "16\n",
      "17\n",
      "18\n",
      "19\n",
      "20\n",
      "21\n",
      "22\n",
      "23\n",
      "24\n",
      "25\n",
      "26\n",
      "27\n",
      "28\n",
      "29\n",
      "30\n",
      "31\n",
      "32\n",
      "33\n",
      "34\n",
      "35\n",
      "36\n",
      "37\n",
      "38\n",
      "39\n",
      "40\n",
      "41\n",
      "42\n",
      "43\n",
      "44\n",
      "45\n",
      "46\n",
      "47\n",
      "48\n",
      "49\n",
      "50\n",
      "51\n",
      "52\n",
      "53\n",
      "54\n",
      "55\n",
      "56\n",
      "57\n",
      "58\n",
      "59\n",
      "60\n",
      "61\n",
      "62\n",
      "63\n",
      "64\n",
      "65\n",
      "66\n",
      "67\n",
      "68\n",
      "69\n",
      "70\n",
      "71\n",
      "72\n",
      "73\n",
      "74\n",
      "75\n",
      "76\n",
      "77\n",
      "78\n",
      "79\n",
      "80\n",
      "81\n",
      "82\n",
      "83\n",
      "84\n",
      "85\n",
      "86\n",
      "87\n",
      "88\n",
      "89\n",
      "90\n",
      "91\n",
      "92\n",
      "93\n",
      "94\n",
      "95\n",
      "96\n",
      "97\n",
      "98\n",
      "99\n",
      "100\n"
     ]
    }
   ],
   "source": [
    "#11  Write a for loop to print numbers from 1 to 100.\n",
    "\n",
    "for num in range (1,101):\n",
    "    print (num)"
   ]
  },
  {
   "cell_type": "code",
   "execution_count": null,
   "metadata": {},
   "outputs": [],
   "source": []
  },
  {
   "cell_type": "code",
   "execution_count": 29,
   "metadata": {},
   "outputs": [
    {
     "name": "stdout",
     "output_type": "stream",
     "text": [
      "The sum of all even numbers between 1 and 500 is: 62750\n"
     ]
    }
   ],
   "source": [
    "#12 Write a Python program to find the sum of all even numbers between 1 and 500.\n",
    "\n",
    "sum_even = 0\n",
    "\n",
    "for num in range(2, 501, 2): \n",
    "    sum_even += num\n",
    "\n",
    "print(\"The sum of all even numbers between 1 and 500 is:\", sum_even)"
   ]
  },
  {
   "cell_type": "code",
   "execution_count": 30,
   "metadata": {},
   "outputs": [
    {
     "name": "stdout",
     "output_type": "stream",
     "text": [
      "Reversed string: \n"
     ]
    }
   ],
   "source": [
    "#13  Write a program to reverse a string using a while loop.\n",
    "\n",
    "string = input(\"Enter a string: \")\n",
    "\n",
    "reversed_string = \"\"\n",
    "\n",
    "index = len(string) - 1\n",
    "\n",
    "while index >= 0:\n",
    "    reversed_string += string[index]\n",
    "    index -= 1 \n",
    "\n",
    "print(\"Reversed string:\", reversed_string)"
   ]
  },
  {
   "cell_type": "code",
   "execution_count": 31,
   "metadata": {},
   "outputs": [
    {
     "ename": "ValueError",
     "evalue": "invalid literal for int() with base 10: ''",
     "output_type": "error",
     "traceback": [
      "\u001b[1;31m---------------------------------------------------------------------------\u001b[0m",
      "\u001b[1;31mValueError\u001b[0m                                Traceback (most recent call last)",
      "Cell \u001b[1;32mIn[31], line 3\u001b[0m\n\u001b[0;32m      1\u001b[0m \u001b[38;5;66;03m#14 Write a Python program to calculate the factorial of a number provided by the user using a while loop.\u001b[39;00m\n\u001b[1;32m----> 3\u001b[0m num \u001b[38;5;241m=\u001b[39m \u001b[38;5;28mint\u001b[39m(\u001b[38;5;28minput\u001b[39m(\u001b[38;5;124m\"\u001b[39m\u001b[38;5;124mEnter a number: \u001b[39m\u001b[38;5;124m\"\u001b[39m))\n\u001b[0;32m      4\u001b[0m factorial \u001b[38;5;241m=\u001b[39m \u001b[38;5;241m1\u001b[39m\n\u001b[0;32m      5\u001b[0m original_num \u001b[38;5;241m=\u001b[39m num\n",
      "\u001b[1;31mValueError\u001b[0m: invalid literal for int() with base 10: ''"
     ]
    }
   ],
   "source": [
    "#14 Write a Python program to calculate the factorial of a number provided by the user using a while loop.\n",
    "\n",
    "num = int(input(\"Enter a number: \"))\n",
    "factorial = 1\n",
    "original_num = num\n",
    "\n",
    "while num > 1:\n",
    "    factorial *= num\n",
    "    num -= 1\n",
    "\n",
    "print(f\"The factorial of {original_num} is: {factorial}\")\n"
   ]
  }
 ],
 "metadata": {
  "kernelspec": {
   "display_name": "base",
   "language": "python",
   "name": "python3"
  },
  "language_info": {
   "codemirror_mode": {
    "name": "ipython",
    "version": 3
   },
   "file_extension": ".py",
   "mimetype": "text/x-python",
   "name": "python",
   "nbconvert_exporter": "python",
   "pygments_lexer": "ipython3",
   "version": "3.12.7"
  }
 },
 "nbformat": 4,
 "nbformat_minor": 2
}
